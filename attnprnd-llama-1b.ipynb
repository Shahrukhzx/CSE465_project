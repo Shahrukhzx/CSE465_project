{
 "cells": [
  {
   "cell_type": "markdown",
   "metadata": {
    "id": "PPTjx4Vq_5Zo"
   },
   "source": [
    "# Libraries"
   ]
  },
  {
   "cell_type": "code",
   "execution_count": 53,
   "metadata": {
    "execution": {
     "iopub.execute_input": "2025-02-14T21:18:50.977300Z",
     "iopub.status.busy": "2025-02-14T21:18:50.976961Z",
     "iopub.status.idle": "2025-02-14T21:18:50.980942Z",
     "shell.execute_reply": "2025-02-14T21:18:50.980001Z",
     "shell.execute_reply.started": "2025-02-14T21:18:50.977270Z"
    },
    "id": "S3Egs5kZ-eIl",
    "trusted": true
   },
   "outputs": [],
   "source": [
    "#!pip install -q transformers==4.47.1\n",
    "#!pip install -q datasets==3.2.0\n",
    "#!pip install -q torch==2.5.1\n",
    "#!pip install -q lm-eval==0.4.7"
   ]
  },
  {
   "cell_type": "code",
   "execution_count": 54,
   "metadata": {
    "execution": {
     "iopub.execute_input": "2025-02-14T21:18:50.982416Z",
     "iopub.status.busy": "2025-02-14T21:18:50.982107Z",
     "iopub.status.idle": "2025-02-14T21:18:50.995373Z",
     "shell.execute_reply": "2025-02-14T21:18:50.994615Z",
     "shell.execute_reply.started": "2025-02-14T21:18:50.982392Z"
    },
    "id": "7m7gGPkiAAci",
    "trusted": true
   },
   "outputs": [],
   "source": [
    "import logging\n",
    "import math\n",
    "import os\n",
    "import sys\n",
    "import shutil\n",
    "from copy import deepcopy\n",
    "\n",
    "import torch\n",
    "import torch.nn.functional as F\n",
    "from transformers import AutoModelForCausalLM, AutoTokenizer, BitsAndBytesConfig\n",
    "import os"
   ]
  },
  {
   "cell_type": "markdown",
   "metadata": {
    "id": "qOgu7npPAYW4"
   },
   "source": [
    "# Model Loading\n"
   ]
  },
  {
   "cell_type": "code",
   "execution_count": 55,
   "metadata": {
    "colab": {
     "base_uri": "https://localhost:8080/"
    },
    "execution": {
     "iopub.execute_input": "2025-02-14T21:18:50.997228Z",
     "iopub.status.busy": "2025-02-14T21:18:50.996992Z",
     "iopub.status.idle": "2025-02-14T21:18:51.009542Z",
     "shell.execute_reply": "2025-02-14T21:18:51.008852Z",
     "shell.execute_reply.started": "2025-02-14T21:18:50.997207Z"
    },
    "id": "FRHyAYMlAcFz",
    "outputId": "4248165c-8f46-4463-a41b-92365b858c10",
    "trusted": true
   },
   "outputs": [
    {
     "name": "stdout",
     "output_type": "stream",
     "text": [
      "Using device: {device}\n"
     ]
    }
   ],
   "source": [
    "# device agnostic code\n",
    "device = \"cuda\" if torch.cuda.is_available() else \"cpu\"\n",
    "print(\"Using device: {device}\")\n"
   ]
  },
  {
   "cell_type": "code",
   "execution_count": 56,
   "metadata": {
    "execution": {
     "iopub.execute_input": "2025-02-14T21:18:51.010912Z",
     "iopub.status.busy": "2025-02-14T21:18:51.010676Z",
     "iopub.status.idle": "2025-02-14T21:18:51.027515Z",
     "shell.execute_reply": "2025-02-14T21:18:51.026727Z",
     "shell.execute_reply.started": "2025-02-14T21:18:51.010889Z"
    },
    "trusted": true
   },
   "outputs": [
    {
     "data": {
      "text/plain": [
       "'|===========================================================================|\\n|                  PyTorch CUDA memory summary, device ID 0                 |\\n|---------------------------------------------------------------------------|\\n|            CUDA OOMs: 3            |        cudaMalloc retries: 3         |\\n|===========================================================================|\\n|        Metric         | Cur Usage  | Peak Usage | Tot Alloc  | Tot Freed  |\\n|---------------------------------------------------------------------------|\\n| Allocated memory      |   4726 MiB |  15732 MiB |  48431 MiB |  43704 MiB |\\n|       from large pool |   4726 MiB |  15725 MiB |  31214 MiB |  26488 MiB |\\n|       from small pool |      0 MiB |      9 MiB |  17216 MiB |  17216 MiB |\\n|---------------------------------------------------------------------------|\\n| Active memory         |   4726 MiB |  15732 MiB |  48431 MiB |  43704 MiB |\\n|       from large pool |   4726 MiB |  15725 MiB |  31214 MiB |  26488 MiB |\\n|       from small pool |      0 MiB |      9 MiB |  17216 MiB |  17216 MiB |\\n|---------------------------------------------------------------------------|\\n| Requested memory      |   4722 MiB |  15730 MiB |  48299 MiB |  43576 MiB |\\n|       from large pool |   4722 MiB |  15723 MiB |  31115 MiB |  26393 MiB |\\n|       from small pool |      0 MiB |      9 MiB |  17183 MiB |  17183 MiB |\\n|---------------------------------------------------------------------------|\\n| GPU reserved memory   |   4738 MiB |  15884 MiB |  22466 MiB |  17728 MiB |\\n|       from large pool |   4736 MiB |  15876 MiB |  22442 MiB |  17706 MiB |\\n|       from small pool |      2 MiB |     14 MiB |     24 MiB |     22 MiB |\\n|---------------------------------------------------------------------------|\\n| Non-releasable memory |  12007 KiB | 230171 KiB |  35661 MiB |  35649 MiB |\\n|       from large pool |  10240 KiB | 229248 KiB |  15240 MiB |  15230 MiB |\\n|       from small pool |   1767 KiB |   9061 KiB |  20420 MiB |  20419 MiB |\\n|---------------------------------------------------------------------------|\\n| Allocations           |     327    |    1271    |  332000    |  331673    |\\n|       from large pool |     227    |     605    |    3623    |    3396    |\\n|       from small pool |     100    |     666    |  328377    |  328277    |\\n|---------------------------------------------------------------------------|\\n| Active allocs         |     327    |    1271    |  332000    |  331673    |\\n|       from large pool |     227    |     605    |    3623    |    3396    |\\n|       from small pool |     100    |     666    |  328377    |  328277    |\\n|---------------------------------------------------------------------------|\\n| GPU reserved segments |     132    |     408    |     602    |     470    |\\n|       from large pool |     131    |     404    |     590    |     459    |\\n|       from small pool |       1    |       7    |      12    |      11    |\\n|---------------------------------------------------------------------------|\\n| Non-releasable allocs |       2    |      82    |  136520    |  136518    |\\n|       from large pool |       1    |      76    |    1789    |    1788    |\\n|       from small pool |       1    |      26    |  134731    |  134730    |\\n|---------------------------------------------------------------------------|\\n| Oversize allocations  |       0    |       0    |       0    |       0    |\\n|---------------------------------------------------------------------------|\\n| Oversize GPU segments |       0    |       0    |       0    |       0    |\\n|===========================================================================|\\n'"
      ]
     },
     "execution_count": 56,
     "metadata": {},
     "output_type": "execute_result"
    }
   ],
   "source": [
    "torch.cuda.empty_cache()\n",
    "torch.cuda.memory_summary()"
   ]
  },
  {
   "cell_type": "code",
   "execution_count": null,
   "metadata": {
    "colab": {
     "base_uri": "https://localhost:8080/",
     "height": 153,
     "referenced_widgets": [
      "5d4b0da233e144258fdf0d6e802af69a",
      "5269522a9c844b00aa65d50d817d0973",
      "070a662cb4494191be279127f53a6f9b",
      "b9e7043d1bf042c38473e9036bfa9d79",
      "7342a8e859a64c81bd8c85ca9e5b0141",
      "086ba5e6e4b442dfa79a74e0bbb94b32",
      "c4f3670092ad47179a9947a606990c08",
      "bf1bd8403ec144009394942aa408a710",
      "a67a7331ef384d31aea5ba7ff418080a",
      "a8e17d3dcae54d568ad99f8d3212b23b",
      "99be618c1b6845ceb4764477c476e8d2"
     ]
    },
    "execution": {
     "iopub.execute_input": "2025-02-14T21:18:51.039631Z",
     "iopub.status.busy": "2025-02-14T21:18:51.039334Z",
     "iopub.status.idle": "2025-02-14T21:18:54.524602Z",
     "shell.execute_reply": "2025-02-14T21:18:54.523644Z",
     "shell.execute_reply.started": "2025-02-14T21:18:51.039599Z"
    },
    "id": "JCy3zNeJAXen",
    "outputId": "e3b94af5-8758-4f8c-d99f-610a6484f896",
    "trusted": true
   },
   "outputs": [],
   "source": [
    "model_name = 'meta-llama/Llama-3.2-1B'\n",
    "model = AutoModelForCausalLM.from_pretrained(model_name).to(device)\n",
    "tokenizer = AutoTokenizer.from_pretrained(model_name)"
   ]
  },
  {
   "cell_type": "code",
   "execution_count": 59,
   "metadata": {
    "execution": {
     "iopub.execute_input": "2025-02-14T21:18:54.527534Z",
     "iopub.status.busy": "2025-02-14T21:18:54.527285Z",
     "iopub.status.idle": "2025-02-14T21:18:54.532677Z",
     "shell.execute_reply": "2025-02-14T21:18:54.531842Z",
     "shell.execute_reply.started": "2025-02-14T21:18:54.527510Z"
    },
    "id": "sRSAX1DxBCgB",
    "trusted": true
   },
   "outputs": [
    {
     "name": "stdout",
     "output_type": "stream",
     "text": [
      "LlamaForCausalLM(\n",
      "  (model): LlamaModel(\n",
      "    (embed_tokens): Embedding(128256, 2048)\n",
      "    (layers): ModuleList(\n",
      "      (0-15): 16 x LlamaDecoderLayer(\n",
      "        (self_attn): LlamaSdpaAttention(\n",
      "          (q_proj): Linear(in_features=2048, out_features=2048, bias=False)\n",
      "          (k_proj): Linear(in_features=2048, out_features=512, bias=False)\n",
      "          (v_proj): Linear(in_features=2048, out_features=512, bias=False)\n",
      "          (o_proj): Linear(in_features=2048, out_features=2048, bias=False)\n",
      "          (rotary_emb): LlamaRotaryEmbedding()\n",
      "        )\n",
      "        (mlp): LlamaMLP(\n",
      "          (gate_proj): Linear(in_features=2048, out_features=8192, bias=False)\n",
      "          (up_proj): Linear(in_features=2048, out_features=8192, bias=False)\n",
      "          (down_proj): Linear(in_features=8192, out_features=2048, bias=False)\n",
      "          (act_fn): SiLU()\n",
      "        )\n",
      "        (input_layernorm): LlamaRMSNorm((2048,), eps=1e-05)\n",
      "        (post_attention_layernorm): LlamaRMSNorm((2048,), eps=1e-05)\n",
      "      )\n",
      "    )\n",
      "    (norm): LlamaRMSNorm((2048,), eps=1e-05)\n",
      "    (rotary_emb): LlamaRotaryEmbedding()\n",
      "  )\n",
      "  (lm_head): Linear(in_features=2048, out_features=128256, bias=False)\n",
      ")\n"
     ]
    }
   ],
   "source": [
    "# structure of the model\n",
    "print(model)"
   ]
  },
  {
   "cell_type": "markdown",
   "metadata": {
    "id": "mxIxvuK2BQuC"
   },
   "source": [
    "# Prunning\n"
   ]
  },
  {
   "cell_type": "markdown",
   "metadata": {
    "id": "Uqqr4v8SBhDh"
   },
   "source": [
    "## Support functions"
   ]
  },
  {
   "cell_type": "code",
   "execution_count": 60,
   "metadata": {
    "execution": {
     "iopub.execute_input": "2025-02-14T21:18:54.534397Z",
     "iopub.status.busy": "2025-02-14T21:18:54.534151Z",
     "iopub.status.idle": "2025-02-14T21:18:54.545911Z",
     "shell.execute_reply": "2025-02-14T21:18:54.545102Z",
     "shell.execute_reply.started": "2025-02-14T21:18:54.534374Z"
    },
    "id": "x1hpx6MwBQAA",
    "trusted": true
   },
   "outputs": [],
   "source": [
    "def measure_unpruned_layer_importances(pruned_model, tokenizer, input_text):\n",
    "    \"\"\"\n",
    "    Measures and returns importance scores for all unpruned (non-bypassed) layers.\n",
    "    \"\"\"\n",
    "    # PREPARATION\n",
    "    \"\"\"\n",
    "    set the model to evaluation mode to ensure that no gradients\n",
    "    are computed during the forward pass.\n",
    "    \"\"\"\n",
    "    pruned_model.eval()\n",
    "    device = next(pruned_model.parameters()).device\n",
    "\n",
    "    \"\"\"\n",
    "    The provided input text (input_text) is tokenized into tensors\n",
    "    suitable for processing by the model.\n",
    "    \"\"\"\n",
    "    inputs = tokenizer(input_text, return_tensors=\"pt\").to(device)\n",
    "\n",
    "    \"\"\"This will hold tuples of (layer_idx, importance_score)\"\"\"\n",
    "    importance_scores = []\n",
    "\n",
    "    # IDENTIFY UNPRUNED LAYERS & CREATING HOOKS\n",
    "    \"\"\"\n",
    "    We'll register hooks for only layers that are NOT in drop_attn_list\n",
    "    The list of attention layers that have already been pruned,\n",
    "    is stored in a variable in the model's config: pruned_model.config.drop_attn_list.\n",
    "    \"\"\"\n",
    "    unpruned_layer_indices = [\n",
    "        idx for idx in range(len(pruned_model.model.layers))\n",
    "        if idx not in pruned_model.config.drop_attn_list\n",
    "    ]\n",
    "\n",
    "    \"\"\"\n",
    "    Temporary storage for each layer's input/output\n",
    "    We'll store them by layer index\n",
    "    \"\"\"\n",
    "    layer_inputs = {}\n",
    "    layer_outputs = {}\n",
    "\n",
    "    \"\"\"\n",
    "    Create 2 hooks to capture the input and the output of the layers.\n",
    "    These hooks store the inputs and outputs in dictionaries\n",
    "    (layer_inputs and layer_outputs) for later analysis\n",
    "    \"\"\"\n",
    "    #Allows capture the input to the query projection (q_proj)\n",
    "    def q_proj_input_hook(layer_idx):\n",
    "        def _hook(module, module_input):\n",
    "            # module_input can be a tuple depending on PyTorch version\n",
    "            inp = module_input[0] if isinstance(module_input, tuple) else module_input\n",
    "            layer_inputs[layer_idx] = inp.detach().clone()\n",
    "        return _hook\n",
    "\n",
    "    # Allows capture the output from the output projection (o_proj)\n",
    "    def o_proj_output_hook(layer_idx):\n",
    "        def _hook(module, module_input, module_output):\n",
    "            out = module_output[0] if isinstance(module_output, tuple) else module_output\n",
    "            layer_outputs[layer_idx] = out.detach().clone()\n",
    "        return _hook\n",
    "\n",
    "    # Register hooks for each unpruned layer\n",
    "    handles = []\n",
    "    for idx in unpruned_layer_indices:\n",
    "        layer = pruned_model.model.layers[idx]\n",
    "        handles.append(layer.self_attn.q_proj.register_forward_pre_hook(q_proj_input_hook(idx)))\n",
    "        handles.append(layer.self_attn.o_proj.register_forward_hook(o_proj_output_hook(idx)))\n",
    "\n",
    "    # FORWARD PASS\n",
    "    \"\"\"\n",
    "    Single forward pass (no gradient needed)\n",
    "    A single forward pass is performed on the input text.\n",
    "    During this pass, the hooks capture the inputs and outputs of the unpruned layers.\n",
    "    This step is done with torch.no_grad(),\n",
    "    ensuring no gradients are calculated, which saves memory and computation.\n",
    "    \"\"\"\n",
    "    with torch.no_grad():\n",
    "        _ = pruned_model(**inputs)\n",
    "\n",
    "    \"\"\"\n",
    "    The hooks are removed after the forward pass\n",
    "    to avoid memory leaks or interference with subsequent operations.\n",
    "    \"\"\"\n",
    "    for h in handles:\n",
    "        h.remove()\n",
    "\n",
    "\n",
    "    #COMPUTE IMPORTANCE SCORES\n",
    "    \"\"\"\n",
    "    For each unpruned layer, the inputs and outputs are flattened into vectors for comparison.\n",
    "\n",
    "    Cosine Similarity: The similarity between the input and output vectors is\n",
    "    computed using cosine similarity. Layers with outputs that are very similar\n",
    "    to their inputs likely contribute less to the model’s overall computation.\n",
    "\n",
    "    Importance Score: The importance score for each layer is calculated as 1−similarity\n",
    "    A higher score indicates that the layer transforms its input significantly\n",
    "    and is therefore more important to the model's function.\n",
    "    \"\"\"\n",
    "    for idx in unpruned_layer_indices:\n",
    "        if idx in layer_inputs and idx in layer_outputs:\n",
    "            inp = layer_inputs[idx]\n",
    "            out = layer_outputs[idx]\n",
    "\n",
    "            inp_flat = inp.view(inp.size(0), -1)\n",
    "            out_flat = out.view(out.size(0), -1)\n",
    "\n",
    "            similarity = F.cosine_similarity(inp_flat, out_flat, dim=1).mean().item()\n",
    "            importance_score = 1 - similarity\n",
    "            importance_scores.append((idx, importance_score))\n",
    "\n",
    "            print(f\"[Iterative] Layer {idx} importance score: {importance_score:.4f}\")\n",
    "\n",
    "    \"\"\"A list of tuples is returned, where each tuple contains the layer index\n",
    "    and its calculated importance score.\"\"\"\n",
    "    return importance_scores"
   ]
  },
  {
   "cell_type": "code",
   "execution_count": 61,
   "metadata": {
    "execution": {
     "iopub.execute_input": "2025-02-14T21:18:54.547590Z",
     "iopub.status.busy": "2025-02-14T21:18:54.547296Z",
     "iopub.status.idle": "2025-02-14T21:18:54.561039Z",
     "shell.execute_reply": "2025-02-14T21:18:54.560276Z",
     "shell.execute_reply.started": "2025-02-14T21:18:54.547566Z"
    },
    "id": "vJAFpmLfBP-F",
    "trusted": true
   },
   "outputs": [],
   "source": [
    "def bypass_single_layer(pruned_model, layer_idx):\n",
    "    \"\"\"\n",
    "    Modifies the specified layer's forward method so that attention is bypassed.\n",
    "    \"\"\"\n",
    "    layer = pruned_model.model.layers[layer_idx]\n",
    "    # Store the original forward.\n",
    "    if not hasattr(layer.self_attn, '_original_forward'):\n",
    "        layer.self_attn._original_forward = layer.self_attn.forward\n",
    "\n",
    "    # A new forward that checks whether to bypass\n",
    "    def new_attention_forward(self, hidden_states, attention_mask=None, position_ids=None,\n",
    "                              past_key_value=None, output_attentions=False, use_cache=False,\n",
    "                              **kwargs):\n",
    "        # If this layer is in drop_attn_list, bypass\n",
    "        if getattr(self, 'layer_idx', -1) in pruned_model.config.drop_attn_list:\n",
    "            return hidden_states, None, None\n",
    "        # Otherwise, use the original forward\n",
    "        return self._original_forward(hidden_states, attention_mask, position_ids,\n",
    "                                      past_key_value, output_attentions, use_cache, **kwargs)\n",
    "\n",
    "    # Set the layer index and forward\n",
    "    layer.self_attn.layer_idx = layer_idx\n",
    "    layer.self_attn.forward = new_attention_forward.__get__(layer.self_attn, type(layer.self_attn))\n"
   ]
  },
  {
   "cell_type": "code",
   "execution_count": 62,
   "metadata": {
    "execution": {
     "iopub.execute_input": "2025-02-14T21:18:54.562081Z",
     "iopub.status.busy": "2025-02-14T21:18:54.561865Z",
     "iopub.status.idle": "2025-02-14T21:18:54.575464Z",
     "shell.execute_reply": "2025-02-14T21:18:54.574848Z",
     "shell.execute_reply.started": "2025-02-14T21:18:54.562061Z"
    },
    "id": "b5oymq28BP76",
    "trusted": true
   },
   "outputs": [],
   "source": [
    "def iterative_pruning(model, tokenizer, input_text, num_layers_to_prune):\n",
    "    \"\"\"\n",
    "    Iteratively:\n",
    "      1) Measures importance of unpruned layers,\n",
    "      2) Prunes (bypasses) the least important layer,\n",
    "      3) Repeats until num_layers_to_prune layers are pruned.\n",
    "    \"\"\"\n",
    "    # Create a copy of the model so we don't modify the original\n",
    "    pruned_model = deepcopy(model)\n",
    "\n",
    "    # Make sure we have a list of pruned layers in config\n",
    "    pruned_model.config.drop_attn_list = []\n",
    "\n",
    "    total_layers = len(pruned_model.model.layers)\n",
    "    print(f\"Total layers: {total_layers}\")\n",
    "\n",
    "    for step in range(num_layers_to_prune):\n",
    "        print(f\"\\n--- Iteration {step + 1} of {num_layers_to_prune} ---\")\n",
    "\n",
    "        # 1) Measure importance scores for all unpruned layers\n",
    "        importance_scores = measure_unpruned_layer_importances(pruned_model, tokenizer, input_text)\n",
    "        if not importance_scores:\n",
    "            print(\"No unpruned layers found or no importance scores computed.\")\n",
    "            break\n",
    "\n",
    "        # 2) Pick layer with the lowest importance\n",
    "        layer_to_bypass, min_score = min(importance_scores, key=lambda x: x[1])\n",
    "\n",
    "        # 3) Bypass that layer\n",
    "        pruned_model.config.drop_attn_list.append(layer_to_bypass)\n",
    "        bypass_single_layer(pruned_model, layer_to_bypass)\n",
    "\n",
    "        print(f\"Bypassing layer {layer_to_bypass} with importance score {min_score:.4f}\")\n",
    "        print(f\"Current bypass list: {pruned_model.config.drop_attn_list}\")\n",
    "\n",
    "    print(f\"\\nFinal bypassed layers: {sorted(pruned_model.config.drop_attn_list)}\")\n",
    "    print(f\"Number of bypassed layers: {len(pruned_model.config.drop_attn_list)}\")\n",
    "\n",
    "    return pruned_model"
   ]
  },
  {
   "cell_type": "markdown",
   "metadata": {
    "id": "ewstgaKgDCE2"
   },
   "source": [
    "## Prunning the model"
   ]
  },
  {
   "cell_type": "code",
   "execution_count": null,
   "metadata": {
    "execution": {
     "iopub.execute_input": "2025-02-14T21:19:54.502964Z",
     "iopub.status.busy": "2025-02-14T21:19:54.502539Z",
     "iopub.status.idle": "2025-02-14T21:19:54.608805Z",
     "shell.execute_reply": "2025-02-14T21:19:54.608062Z",
     "shell.execute_reply.started": "2025-02-14T21:19:54.502931Z"
    },
    "id": "XAAkKyVbBP5t",
    "trusted": true
   },
   "outputs": [
    {
     "name": "stdout",
     "output_type": "stream",
     "text": [
      "Total layers: 16\n",
      "\n",
      "--- Iteration 1 of 2 ---\n",
      "[Iterative] Layer 0 importance score: 1.1235\n",
      "[Iterative] Layer 1 importance score: 0.9898\n",
      "[Iterative] Layer 2 importance score: 0.9640\n",
      "[Iterative] Layer 3 importance score: 1.0608\n",
      "[Iterative] Layer 4 importance score: 1.0264\n",
      "[Iterative] Layer 5 importance score: 1.0813\n",
      "[Iterative] Layer 6 importance score: 1.1420\n",
      "[Iterative] Layer 7 importance score: 1.0772\n",
      "[Iterative] Layer 8 importance score: 1.1254\n",
      "[Iterative] Layer 9 importance score: 0.9874\n",
      "[Iterative] Layer 10 importance score: 1.1360\n",
      "[Iterative] Layer 11 importance score: 0.8226\n",
      "[Iterative] Layer 12 importance score: 0.7812\n",
      "[Iterative] Layer 13 importance score: 0.7732\n",
      "[Iterative] Layer 14 importance score: 0.7437\n",
      "[Iterative] Layer 15 importance score: 1.1173\n",
      "Bypassing layer 14 with importance score 0.7437\n",
      "Current bypass list: [14]\n",
      "\n",
      "--- Iteration 2 of 2 ---\n",
      "[Iterative] Layer 0 importance score: 1.1235\n",
      "[Iterative] Layer 1 importance score: 0.9898\n",
      "[Iterative] Layer 2 importance score: 0.9640\n",
      "[Iterative] Layer 3 importance score: 1.0608\n",
      "[Iterative] Layer 4 importance score: 1.0264\n",
      "[Iterative] Layer 5 importance score: 1.0813\n",
      "[Iterative] Layer 6 importance score: 1.1420\n",
      "[Iterative] Layer 7 importance score: 1.0772\n",
      "[Iterative] Layer 8 importance score: 1.1254\n",
      "[Iterative] Layer 9 importance score: 0.9874\n",
      "[Iterative] Layer 10 importance score: 1.1360\n",
      "[Iterative] Layer 11 importance score: 0.8226\n",
      "[Iterative] Layer 12 importance score: 0.7812\n",
      "[Iterative] Layer 13 importance score: 0.7732\n",
      "[Iterative] Layer 15 importance score: 1.4170\n",
      "Bypassing layer 13 with importance score 0.7732\n",
      "Current bypass list: [14, 13]\n",
      "\n",
      "Final bypassed layers: [13, 14]\n",
      "Number of bypassed layers: 2\n"
     ]
    }
   ],
   "source": [
    "pruned_model = iterative_pruning(\n",
    "      model,\n",
    "      tokenizer,\n",
    "       \"Hi I'm a sample text, use to calculate the cosine difference between input and output.\",\n",
    "      num_layers_to_prune=2\n",
    ")"
   ]
  },
  {
   "cell_type": "markdown",
   "metadata": {
    "id": "i0oUFks8DMR8"
   },
   "source": [
    "# Test the Model"
   ]
  },
  {
   "cell_type": "code",
   "execution_count": 65,
   "metadata": {
    "execution": {
     "iopub.execute_input": "2025-02-14T21:19:57.755942Z",
     "iopub.status.busy": "2025-02-14T21:19:57.755566Z",
     "iopub.status.idle": "2025-02-14T21:19:57.801803Z",
     "shell.execute_reply": "2025-02-14T21:19:57.801073Z",
     "shell.execute_reply.started": "2025-02-14T21:19:57.755909Z"
    },
    "id": "1Cv_laCEBP3g",
    "trusted": true
   },
   "outputs": [],
   "source": [
    "import time\n",
    "\n",
    "def get_output(prompt, model=model, tokenizer=tokenizer, num_runs=1, max_length=50):\n",
    "    total_time = 0\n",
    "    generated_outputs = []\n",
    "\n",
    "    for run in range(num_runs):\n",
    "        # Start timing\n",
    "        start_time = time.time()\n",
    "\n",
    "        # Tokenization time\n",
    "        token_start = time.time()\n",
    "        inputs = tokenizer(prompt, return_tensors='pt').to(device)\n",
    "        token_time = time.time() - token_start\n",
    "\n",
    "        # Generation time\n",
    "        gen_start = time.time()\n",
    "        outputs = model.generate(\n",
    "            inputs['input_ids'],\n",
    "            attention_mask=inputs['attention_mask'],\n",
    "            max_length=max_length,\n",
    "            num_return_sequences=1,\n",
    "            pad_token_id=tokenizer.pad_token_id,\n",
    "            temperature=None,\n",
    "            top_p=None,\n",
    "            do_sample=False,  # Disable sampling\n",
    "            num_beams=5,      # Use beam search\n",
    "            early_stopping=True,  # Stop when end-of-sequence token is generated\n",
    "            no_repeat_ngram_size=2  # Prevent repetition of 2-grams\n",
    "        )\n",
    "        gen_time = time.time() - gen_start\n",
    "\n",
    "        # Decoding time\n",
    "        decode_start = time.time()\n",
    "        generated = tokenizer.decode(outputs[0], skip_special_tokens=True)\n",
    "        decode_time = time.time() - decode_start\n",
    "\n",
    "        # Total time for this run\n",
    "        total_time += time.time() - start_time\n",
    "        generated_outputs.append(generated)\n",
    "\n",
    "        # Measure memory usage\n",
    "        memory_allocated = torch.cuda.memory_allocated() / (1024 ** 2)  # In MB\n",
    "        memory_reserved = torch.cuda.memory_reserved() / (1024 ** 2)  # In MB\n",
    "\n",
    "        print(f\"Memory Allocated: {memory_allocated:.2f} MB\")\n",
    "        print(f\"Memory Reserved: {memory_reserved:.2f} MB\")\n",
    "\n",
    "        if num_runs > 1:\n",
    "            print(f\"\\nRun {run + 1}:\")\n",
    "        print(f\"Tokenization time: {token_time*1000:.2f} ms\")\n",
    "        print(f\"Generation time: {gen_time*1000:.2f} ms\")\n",
    "        print(f\"Decoding time: {decode_time*1000:.2f} ms\")\n",
    "        print(f\"Total time: {(time.time() - start_time)*1000:.2f} ms\")\n",
    "\n",
    "    if num_runs > 1:\n",
    "        avg_time = total_time / num_runs\n",
    "        print(f\"\\nAverage time over {num_runs} runs: {avg_time*1000:.2f} ms\")\n",
    "\n",
    "    return generated_outputs[0] if num_runs == 1 else generated_outputs"
   ]
  },
  {
   "cell_type": "code",
   "execution_count": 68,
   "metadata": {
    "execution": {
     "iopub.execute_input": "2025-02-14T21:20:24.112845Z",
     "iopub.status.busy": "2025-02-14T21:20:24.112453Z",
     "iopub.status.idle": "2025-02-14T21:20:26.483909Z",
     "shell.execute_reply": "2025-02-14T21:20:26.482865Z",
     "shell.execute_reply.started": "2025-02-14T21:20:24.112808Z"
    },
    "id": "fBtFzhBlBP1J",
    "trusted": true
   },
   "outputs": [
    {
     "name": "stderr",
     "output_type": "stream",
     "text": [
      "Setting `pad_token_id` to `eos_token_id`:128001 for open-end generation.\n",
      "Setting `pad_token_id` to `eos_token_id`:128001 for open-end generation.\n"
     ]
    },
    {
     "name": "stdout",
     "output_type": "stream",
     "text": [
      "Memory Allocated: 7082.54 MB\n",
      "Memory Reserved: 9466.00 MB\n",
      "\n",
      "Run 1:\n",
      "Tokenization time: 1.45 ms\n",
      "Generation time: 1184.18 ms\n",
      "Decoding time: 0.25 ms\n",
      "Total time: 1186.40 ms\n",
      "Memory Allocated: 7082.54 MB\n",
      "Memory Reserved: 9466.00 MB\n",
      "\n",
      "Run 2:\n",
      "Tokenization time: 1.22 ms\n",
      "Generation time: 1176.70 ms\n",
      "Decoding time: 0.20 ms\n",
      "Total time: 1178.73 ms\n",
      "\n",
      "Average time over 2 runs: 1182.01 ms\n",
      "Generated text: ['Dhaka is the capital of Bangladesh and the largest city in the country. It is located on the banks of the Buriganga River. The city has a population of over 10 million people and is home to many historical and cultural sites', 'Dhaka is the capital of Bangladesh and the largest city in the country. It is located on the banks of the Buriganga River. The city has a population of over 10 million people and is home to many historical and cultural sites']\n"
     ]
    }
   ],
   "source": [
    "# Test the original model\n",
    "prompt = \"Dhaka is the capital of\"\n",
    "generated = get_output(prompt, num_runs=2)\n",
    "print(f\"Generated text: {generated}\")"
   ]
  },
  {
   "cell_type": "code",
   "execution_count": 69,
   "metadata": {
    "execution": {
     "iopub.execute_input": "2025-02-14T21:20:37.067470Z",
     "iopub.status.busy": "2025-02-14T21:20:37.067117Z",
     "iopub.status.idle": "2025-02-14T21:20:39.360584Z",
     "shell.execute_reply": "2025-02-14T21:20:39.359773Z",
     "shell.execute_reply.started": "2025-02-14T21:20:37.067438Z"
    },
    "id": "5He_1dzzBPxj",
    "trusted": true
   },
   "outputs": [
    {
     "name": "stderr",
     "output_type": "stream",
     "text": [
      "Setting `pad_token_id` to `eos_token_id`:128001 for open-end generation.\n",
      "Setting `pad_token_id` to `eos_token_id`:128001 for open-end generation.\n"
     ]
    },
    {
     "name": "stdout",
     "output_type": "stream",
     "text": [
      "Memory Allocated: 7082.54 MB\n",
      "Memory Reserved: 9466.00 MB\n",
      "\n",
      "Run 1:\n",
      "Tokenization time: 1.01 ms\n",
      "Generation time: 1142.02 ms\n",
      "Decoding time: 0.22 ms\n",
      "Total time: 1143.77 ms\n",
      "Memory Allocated: 7082.54 MB\n",
      "Memory Reserved: 9466.00 MB\n",
      "\n",
      "Run 2:\n",
      "Tokenization time: 1.14 ms\n",
      "Generation time: 1141.74 ms\n",
      "Decoding time: 0.20 ms\n",
      "Total time: 1143.69 ms\n",
      "\n",
      "Average time over 2 runs: 1143.16 ms\n",
      "Generated text: ['Dhaka is the capital of Bangladesh. It is also known as the city of lights because of its beautiful skyline. There are many places to visit in this city. Here are some places that you should visit while you are there.\\nThe city', 'Dhaka is the capital of Bangladesh. It is also known as the city of lights because of its beautiful skyline. There are many places to visit in this city. Here are some places that you should visit while you are there.\\nThe city']\n"
     ]
    }
   ],
   "source": [
    "# Test the pruned model\n",
    "generated = get_output(prompt, pruned_model, num_runs=2)\n",
    "print(f\"Generated text: {generated}\")"
   ]
  },
  {
   "cell_type": "markdown",
   "metadata": {
    "id": "0E7yNTN1ELap"
   },
   "source": [
    "# Storing the model\n"
   ]
  },
  {
   "cell_type": "code",
   "execution_count": 70,
   "metadata": {
    "execution": {
     "iopub.execute_input": "2025-02-14T21:20:58.235254Z",
     "iopub.status.busy": "2025-02-14T21:20:58.234933Z",
     "iopub.status.idle": "2025-02-14T21:21:04.503662Z",
     "shell.execute_reply": "2025-02-14T21:21:04.502597Z",
     "shell.execute_reply.started": "2025-02-14T21:20:58.235229Z"
    },
    "id": "XxeNzPQPEPiz",
    "trusted": true
   },
   "outputs": [
    {
     "name": "stdout",
     "output_type": "stream",
     "text": [
      "Pruned model saved to ./attnprun-llama-3.2-1B\n"
     ]
    }
   ],
   "source": [
    "new_model_name = 'attnprun-llama-3.2-1B'\n",
    "output_dir = './'+new_model_name\n",
    "if not os.path.exists(output_dir):\n",
    "    os.makedirs(output_dir)\n",
    "\n",
    "pruned_model.save_pretrained(output_dir)\n",
    "tokenizer.save_pretrained(output_dir)\n",
    "#new_config.save_pretrained(output_dir)\n",
    "print(f\"Pruned model saved to {output_dir}\")"
   ]
  },
  {
   "cell_type": "code",
   "execution_count": 73,
   "metadata": {
    "execution": {
     "iopub.execute_input": "2025-02-14T21:21:56.928163Z",
     "iopub.status.busy": "2025-02-14T21:21:56.927751Z",
     "iopub.status.idle": "2025-02-14T21:21:56.957655Z",
     "shell.execute_reply": "2025-02-14T21:21:56.956712Z",
     "shell.execute_reply.started": "2025-02-14T21:21:56.928124Z"
    },
    "trusted": true
   },
   "outputs": [
    {
     "data": {
      "application/vnd.jupyter.widget-view+json": {
       "model_id": "0a30a7498e8244198c014b6233033f70",
       "version_major": 2,
       "version_minor": 0
      },
      "text/plain": [
       "VBox(children=(HTML(value='<center> <img\\nsrc=https://huggingface.co/front/assets/huggingface_logo-noborder.sv…"
      ]
     },
     "metadata": {},
     "output_type": "display_data"
    }
   ],
   "source": [
    "from huggingface_hub import login\n",
    "login()"
   ]
  },
  {
   "cell_type": "code",
   "execution_count": 74,
   "metadata": {
    "execution": {
     "iopub.execute_input": "2025-02-14T21:22:20.669803Z",
     "iopub.status.busy": "2025-02-14T21:22:20.669455Z",
     "iopub.status.idle": "2025-02-14T21:23:35.553744Z",
     "shell.execute_reply": "2025-02-14T21:23:35.552947Z",
     "shell.execute_reply.started": "2025-02-14T21:22:20.669751Z"
    },
    "id": "abF1jSn3EPW_",
    "trusted": true
   },
   "outputs": [
    {
     "data": {
      "application/vnd.jupyter.widget-view+json": {
       "model_id": "daf366ccebd84637b2d833a4689e9ace",
       "version_major": 2,
       "version_minor": 0
      },
      "text/plain": [
       "model.safetensors:   0%|          | 0.00/2.47G [00:00<?, ?B/s]"
      ]
     },
     "metadata": {},
     "output_type": "display_data"
    },
    {
     "data": {
      "application/vnd.jupyter.widget-view+json": {
       "model_id": "0a72a7306e81451096dcd1e9a9778938",
       "version_major": 2,
       "version_minor": 0
      },
      "text/plain": [
       "README.md:   0%|          | 0.00/5.17k [00:00<?, ?B/s]"
      ]
     },
     "metadata": {},
     "output_type": "display_data"
    },
    {
     "data": {
      "application/vnd.jupyter.widget-view+json": {
       "model_id": "e8038d8e7b1845e4ab4398c837d5a496",
       "version_major": 2,
       "version_minor": 0
      },
      "text/plain": [
       "tokenizer.json:   0%|          | 0.00/17.2M [00:00<?, ?B/s]"
      ]
     },
     "metadata": {},
     "output_type": "display_data"
    },
    {
     "data": {
      "text/plain": [
       "CommitInfo(commit_url='https://huggingface.co/Shahrukh0/attnprun-llama-3.2-1B/commit/e720a870d1333c5e33ef53ea4c96f610dd9c9b5f', commit_message='Upload tokenizer', commit_description='', oid='e720a870d1333c5e33ef53ea4c96f610dd9c9b5f', pr_url=None, repo_url=RepoUrl('https://huggingface.co/Shahrukh0/attnprun-llama-3.2-1B', endpoint='https://huggingface.co', repo_type='model', repo_id='Shahrukh0/attnprun-llama-3.2-1B'), pr_revision=None, pr_num=None)"
      ]
     },
     "execution_count": 74,
     "metadata": {},
     "output_type": "execute_result"
    }
   ],
   "source": [
    "# Push the model to your Hugging Face repository\n",
    "pruned_model.push_to_hub(new_model_name, private=False)\n",
    "tokenizer.push_to_hub(new_model_name)"
   ]
  },
  {
   "cell_type": "markdown",
   "metadata": {
    "id": "HSC7xfcLD5tP"
   },
   "source": [
    "# Evaluating the model\n"
   ]
  },
  {
   "cell_type": "code",
   "execution_count": 75,
   "metadata": {
    "execution": {
     "iopub.execute_input": "2025-02-14T21:23:35.554904Z",
     "iopub.status.busy": "2025-02-14T21:23:35.554669Z",
     "iopub.status.idle": "2025-02-14T21:23:38.150494Z",
     "shell.execute_reply": "2025-02-14T21:23:38.149806Z",
     "shell.execute_reply.started": "2025-02-14T21:23:35.554883Z"
    },
    "id": "sNywz8kaBPrv",
    "trusted": true
   },
   "outputs": [],
   "source": [
    "from lm_eval import evaluator, tasks, models"
   ]
  },
  {
   "cell_type": "code",
   "execution_count": 76,
   "metadata": {
    "execution": {
     "iopub.execute_input": "2025-02-14T21:23:38.152462Z",
     "iopub.status.busy": "2025-02-14T21:23:38.152126Z",
     "iopub.status.idle": "2025-02-14T21:23:38.156914Z",
     "shell.execute_reply": "2025-02-14T21:23:38.156067Z",
     "shell.execute_reply.started": "2025-02-14T21:23:38.152424Z"
    },
    "id": "YlHy_JTGBPln",
    "trusted": true
   },
   "outputs": [],
   "source": [
    "def evaluate_hf_model(model_name, tasks=['arc_easy'], num_fewshot=0):\n",
    "    \"\"\"\n",
    "    It calls the evaluator to evaluate a model available on Hugging Face.\n",
    "\n",
    "    Args:\n",
    "    - model_name: The model name in hugging Face.\n",
    "    - tasks: Tasks to evaluate.\n",
    "    - num_fewshot: Number of examples of few-shot learning\n",
    "\n",
    "    Returns:\n",
    "    - metrics.\n",
    "    \"\"\"\n",
    "    model_args = f\"pretrained={model_name},device=cuda\"\n",
    "    tasks = tasks\n",
    "\n",
    "    results = evaluator.simple_evaluate(\n",
    "      model=\"hf\",\n",
    "      model_args=model_args,\n",
    "      tasks=tasks,\n",
    "      num_fewshot=0,  # Number of few-shot smaples.\n",
    "      limit=None,  # Use all the samples in the Evaluate Dataset.\n",
    "      bootstrap_iters=10\n",
    "    )\n",
    "\n",
    "    metrics = results.get('results', {})\n",
    "    return metrics"
   ]
  },
  {
   "cell_type": "code",
   "execution_count": 77,
   "metadata": {
    "execution": {
     "iopub.execute_input": "2025-02-14T21:23:38.158156Z",
     "iopub.status.busy": "2025-02-14T21:23:38.157951Z",
     "iopub.status.idle": "2025-02-14T21:23:38.181051Z",
     "shell.execute_reply": "2025-02-14T21:23:38.180346Z",
     "shell.execute_reply.started": "2025-02-14T21:23:38.158138Z"
    },
    "id": "Z-_Du_eZBPfY",
    "trusted": true
   },
   "outputs": [],
   "source": [
    "# Select tasks to evaluate.\n",
    "tasks = ['lambada', 'boolq', 'arc_easy']"
   ]
  },
  {
   "cell_type": "code",
   "execution_count": 79,
   "metadata": {
    "execution": {
     "iopub.execute_input": "2025-02-14T21:24:26.910747Z",
     "iopub.status.busy": "2025-02-14T21:24:26.910432Z",
     "iopub.status.idle": "2025-02-14T21:41:35.704128Z",
     "shell.execute_reply": "2025-02-14T21:41:35.702928Z",
     "shell.execute_reply.started": "2025-02-14T21:24:26.910721Z"
    },
    "trusted": true
   },
   "outputs": [
    {
     "data": {
      "application/vnd.jupyter.widget-view+json": {
       "model_id": "af19be4d21244be4bfcd192a68b21cad",
       "version_major": 2,
       "version_minor": 0
      },
      "text/plain": [
       "config.json:   0%|          | 0.00/925 [00:00<?, ?B/s]"
      ]
     },
     "metadata": {},
     "output_type": "display_data"
    },
    {
     "data": {
      "application/vnd.jupyter.widget-view+json": {
       "model_id": "a1b287ba44244572ac1cc4c399bdce71",
       "version_major": 2,
       "version_minor": 0
      },
      "text/plain": [
       "tokenizer_config.json:   0%|          | 0.00/50.5k [00:00<?, ?B/s]"
      ]
     },
     "metadata": {},
     "output_type": "display_data"
    },
    {
     "data": {
      "application/vnd.jupyter.widget-view+json": {
       "model_id": "14356fbb476a40ff8a1f03a78c89e051",
       "version_major": 2,
       "version_minor": 0
      },
      "text/plain": [
       "tokenizer.json:   0%|          | 0.00/17.2M [00:00<?, ?B/s]"
      ]
     },
     "metadata": {},
     "output_type": "display_data"
    },
    {
     "data": {
      "application/vnd.jupyter.widget-view+json": {
       "model_id": "65204f58439944c8b385467edc85e4ca",
       "version_major": 2,
       "version_minor": 0
      },
      "text/plain": [
       "special_tokens_map.json:   0%|          | 0.00/301 [00:00<?, ?B/s]"
      ]
     },
     "metadata": {},
     "output_type": "display_data"
    },
    {
     "data": {
      "application/vnd.jupyter.widget-view+json": {
       "model_id": "b72cdcc5486c4b32b6784945bb1548c6",
       "version_major": 2,
       "version_minor": 0
      },
      "text/plain": [
       "model.safetensors:   0%|          | 0.00/2.47G [00:00<?, ?B/s]"
      ]
     },
     "metadata": {},
     "output_type": "display_data"
    },
    {
     "data": {
      "application/vnd.jupyter.widget-view+json": {
       "model_id": "6003768f100e455c9437ebf016842a32",
       "version_major": 2,
       "version_minor": 0
      },
      "text/plain": [
       "generation_config.json:   0%|          | 0.00/180 [00:00<?, ?B/s]"
      ]
     },
     "metadata": {},
     "output_type": "display_data"
    },
    {
     "data": {
      "application/vnd.jupyter.widget-view+json": {
       "model_id": "3a5c014798304a91b22e4a313d20e73f",
       "version_major": 2,
       "version_minor": 0
      },
      "text/plain": [
       "README.md:   0%|          | 0.00/4.99k [00:00<?, ?B/s]"
      ]
     },
     "metadata": {},
     "output_type": "display_data"
    },
    {
     "data": {
      "application/vnd.jupyter.widget-view+json": {
       "model_id": "c76c6d2d2a224fe5841c6734a19639d7",
       "version_major": 2,
       "version_minor": 0
      },
      "text/plain": [
       "lambada_openai.py:   0%|          | 0.00/4.82k [00:00<?, ?B/s]"
      ]
     },
     "metadata": {},
     "output_type": "display_data"
    },
    {
     "data": {
      "application/vnd.jupyter.widget-view+json": {
       "model_id": "7b353d115d3e44fda5dee31a43ede91b",
       "version_major": 2,
       "version_minor": 0
      },
      "text/plain": [
       "0000.parquet:   0%|          | 0.00/1.16M [00:00<?, ?B/s]"
      ]
     },
     "metadata": {},
     "output_type": "display_data"
    },
    {
     "data": {
      "application/vnd.jupyter.widget-view+json": {
       "model_id": "bfab952d19e9471d8a4f11740c30c68c",
       "version_major": 2,
       "version_minor": 0
      },
      "text/plain": [
       "Generating test split:   0%|          | 0/5153 [00:00<?, ? examples/s]"
      ]
     },
     "metadata": {},
     "output_type": "display_data"
    },
    {
     "data": {
      "application/vnd.jupyter.widget-view+json": {
       "model_id": "cec1fc0a9a224dd0bb390e1ee696d6cc",
       "version_major": 2,
       "version_minor": 0
      },
      "text/plain": [
       "README.md:   0%|          | 0.00/7.32k [00:00<?, ?B/s]"
      ]
     },
     "metadata": {},
     "output_type": "display_data"
    },
    {
     "data": {
      "application/vnd.jupyter.widget-view+json": {
       "model_id": "19e37c2ff37841aa99e183f808741185",
       "version_major": 2,
       "version_minor": 0
      },
      "text/plain": [
       "train-00000-of-00002.parquet:   0%|          | 0.00/269M [00:00<?, ?B/s]"
      ]
     },
     "metadata": {},
     "output_type": "display_data"
    },
    {
     "data": {
      "application/vnd.jupyter.widget-view+json": {
       "model_id": "cbf063985fbe448e92f4f500402f38be",
       "version_major": 2,
       "version_minor": 0
      },
      "text/plain": [
       "train-00001-of-00002.parquet:   0%|          | 0.00/281M [00:00<?, ?B/s]"
      ]
     },
     "metadata": {},
     "output_type": "display_data"
    },
    {
     "data": {
      "application/vnd.jupyter.widget-view+json": {
       "model_id": "136b4c2051a645eaa853b9df51e44084",
       "version_major": 2,
       "version_minor": 0
      },
      "text/plain": [
       "test-00000-of-00001.parquet:   0%|          | 0.00/1.14M [00:00<?, ?B/s]"
      ]
     },
     "metadata": {},
     "output_type": "display_data"
    },
    {
     "data": {
      "application/vnd.jupyter.widget-view+json": {
       "model_id": "139133c2dca147d5911549f810f76573",
       "version_major": 2,
       "version_minor": 0
      },
      "text/plain": [
       "validation-00000-of-00001.parquet:   0%|          | 0.00/1.08M [00:00<?, ?B/s]"
      ]
     },
     "metadata": {},
     "output_type": "display_data"
    },
    {
     "data": {
      "application/vnd.jupyter.widget-view+json": {
       "model_id": "80ba4ece58d94b6ba4e0fba346d2c1cb",
       "version_major": 2,
       "version_minor": 0
      },
      "text/plain": [
       "Generating train split:   0%|          | 0/2662 [00:00<?, ? examples/s]"
      ]
     },
     "metadata": {},
     "output_type": "display_data"
    },
    {
     "data": {
      "application/vnd.jupyter.widget-view+json": {
       "model_id": "ce0f034d6b28498bb1b0bf4de19ad4b0",
       "version_major": 2,
       "version_minor": 0
      },
      "text/plain": [
       "Generating test split:   0%|          | 0/5153 [00:00<?, ? examples/s]"
      ]
     },
     "metadata": {},
     "output_type": "display_data"
    },
    {
     "data": {
      "application/vnd.jupyter.widget-view+json": {
       "model_id": "93991d4e93ad4325a3c468d754e97193",
       "version_major": 2,
       "version_minor": 0
      },
      "text/plain": [
       "Generating validation split:   0%|          | 0/4869 [00:00<?, ? examples/s]"
      ]
     },
     "metadata": {},
     "output_type": "display_data"
    },
    {
     "data": {
      "application/vnd.jupyter.widget-view+json": {
       "model_id": "cb01f8682a0b4ac58bd22412caa24f86",
       "version_major": 2,
       "version_minor": 0
      },
      "text/plain": [
       "README.md:   0%|          | 0.00/18.2k [00:00<?, ?B/s]"
      ]
     },
     "metadata": {},
     "output_type": "display_data"
    },
    {
     "data": {
      "application/vnd.jupyter.widget-view+json": {
       "model_id": "269245b9c1fc4c308355e34608efaaf5",
       "version_major": 2,
       "version_minor": 0
      },
      "text/plain": [
       "super_glue.py:   0%|          | 0.00/30.7k [00:00<?, ?B/s]"
      ]
     },
     "metadata": {},
     "output_type": "display_data"
    },
    {
     "name": "stdout",
     "output_type": "stream",
     "text": [
      "The repository for super_glue contains custom code which must be executed to correctly load the dataset. You can inspect the repository content at https://hf.co/datasets/super_glue.\n",
      "You can avoid this prompt in future by passing the argument `trust_remote_code=True`.\n",
      "\n",
      "Do you wish to run the custom code? [y/N]  y\n"
     ]
    },
    {
     "data": {
      "application/vnd.jupyter.widget-view+json": {
       "model_id": "c82f119262634d20a05cdd13b0699cc5",
       "version_major": 2,
       "version_minor": 0
      },
      "text/plain": [
       "Downloading data:   0%|          | 0.00/4.12M [00:00<?, ?B/s]"
      ]
     },
     "metadata": {},
     "output_type": "display_data"
    },
    {
     "data": {
      "application/vnd.jupyter.widget-view+json": {
       "model_id": "6d703f04d744458e89dc98a684fb4805",
       "version_major": 2,
       "version_minor": 0
      },
      "text/plain": [
       "Generating train split:   0%|          | 0/9427 [00:00<?, ? examples/s]"
      ]
     },
     "metadata": {},
     "output_type": "display_data"
    },
    {
     "data": {
      "application/vnd.jupyter.widget-view+json": {
       "model_id": "219095be1275401480e8291b1db97170",
       "version_major": 2,
       "version_minor": 0
      },
      "text/plain": [
       "Generating validation split:   0%|          | 0/3270 [00:00<?, ? examples/s]"
      ]
     },
     "metadata": {},
     "output_type": "display_data"
    },
    {
     "data": {
      "application/vnd.jupyter.widget-view+json": {
       "model_id": "a44f05757f83439f82f0bcb315777198",
       "version_major": 2,
       "version_minor": 0
      },
      "text/plain": [
       "Generating test split:   0%|          | 0/3245 [00:00<?, ? examples/s]"
      ]
     },
     "metadata": {},
     "output_type": "display_data"
    },
    {
     "data": {
      "application/vnd.jupyter.widget-view+json": {
       "model_id": "c0ddb2d6140c4f6bae88ec7b24b30989",
       "version_major": 2,
       "version_minor": 0
      },
      "text/plain": [
       "README.md:   0%|          | 0.00/9.00k [00:00<?, ?B/s]"
      ]
     },
     "metadata": {},
     "output_type": "display_data"
    },
    {
     "data": {
      "application/vnd.jupyter.widget-view+json": {
       "model_id": "d32307b65cda46bbb71139a5976fc27e",
       "version_major": 2,
       "version_minor": 0
      },
      "text/plain": [
       "train-00000-of-00001.parquet:   0%|          | 0.00/331k [00:00<?, ?B/s]"
      ]
     },
     "metadata": {},
     "output_type": "display_data"
    },
    {
     "data": {
      "application/vnd.jupyter.widget-view+json": {
       "model_id": "8c06e251f6ed4ae2905942037dd777db",
       "version_major": 2,
       "version_minor": 0
      },
      "text/plain": [
       "test-00000-of-00001.parquet:   0%|          | 0.00/346k [00:00<?, ?B/s]"
      ]
     },
     "metadata": {},
     "output_type": "display_data"
    },
    {
     "data": {
      "application/vnd.jupyter.widget-view+json": {
       "model_id": "4295cec7b8d046ee8e3f579e6df87b00",
       "version_major": 2,
       "version_minor": 0
      },
      "text/plain": [
       "validation-00000-of-00001.parquet:   0%|          | 0.00/86.1k [00:00<?, ?B/s]"
      ]
     },
     "metadata": {},
     "output_type": "display_data"
    },
    {
     "data": {
      "application/vnd.jupyter.widget-view+json": {
       "model_id": "a818e34215004a09805ae33f09d7e655",
       "version_major": 2,
       "version_minor": 0
      },
      "text/plain": [
       "Generating train split:   0%|          | 0/2251 [00:00<?, ? examples/s]"
      ]
     },
     "metadata": {},
     "output_type": "display_data"
    },
    {
     "data": {
      "application/vnd.jupyter.widget-view+json": {
       "model_id": "a57d377518074126866f452316d0d61d",
       "version_major": 2,
       "version_minor": 0
      },
      "text/plain": [
       "Generating test split:   0%|          | 0/2376 [00:00<?, ? examples/s]"
      ]
     },
     "metadata": {},
     "output_type": "display_data"
    },
    {
     "data": {
      "application/vnd.jupyter.widget-view+json": {
       "model_id": "9b8a3f8830034159b0fcfa960e509bcb",
       "version_major": 2,
       "version_minor": 0
      },
      "text/plain": [
       "Generating validation split:   0%|          | 0/570 [00:00<?, ? examples/s]"
      ]
     },
     "metadata": {},
     "output_type": "display_data"
    },
    {
     "name": "stderr",
     "output_type": "stream",
     "text": [
      "100%|██████████| 2376/2376 [00:02<00:00, 1022.73it/s]\n",
      "100%|██████████| 3270/3270 [00:01<00:00, 1838.14it/s]\n",
      "100%|██████████| 5153/5153 [00:09<00:00, 539.85it/s]\n",
      "100%|██████████| 5153/5153 [00:09<00:00, 544.81it/s]\n",
      "Running loglikelihood requests: 100%|██████████| 26347/26347 [15:05<00:00, 29.10it/s]\n"
     ]
    },
    {
     "name": "stdout",
     "output_type": "stream",
     "text": [
      "bootstrapping for stddev: perplexity\n"
     ]
    },
    {
     "name": "stderr",
     "output_type": "stream",
     "text": [
      "100%|██████████| 1/1 [00:00<00:00, 96.39it/s]\n"
     ]
    },
    {
     "name": "stdout",
     "output_type": "stream",
     "text": [
      "bootstrapping for stddev: perplexity\n"
     ]
    },
    {
     "name": "stderr",
     "output_type": "stream",
     "text": [
      "100%|██████████| 1/1 [00:00<00:00, 92.56it/s]\n"
     ]
    },
    {
     "data": {
      "text/plain": [
       "{'arc_easy': {'alias': 'arc_easy',\n",
       "  'acc,none': 0.6553030303030303,\n",
       "  'acc_stderr,none': 0.00975232158656978,\n",
       "  'acc_norm,none': 0.6047979797979798,\n",
       "  'acc_norm_stderr,none': 0.010031894052790976},\n",
       " 'boolq': {'alias': 'boolq',\n",
       "  'acc,none': 0.6391437308868502,\n",
       "  'acc_stderr,none': 0.008399606360769106},\n",
       " 'lambada_openai': {'alias': 'lambada_openai',\n",
       "  'perplexity,none': 5.725301902584129,\n",
       "  'perplexity_stderr,none': 0.19207674979615771,\n",
       "  'acc,none': 0.6299243159324666,\n",
       "  'acc_stderr,none': 0.006726691873834141},\n",
       " 'lambada_standard': {'alias': 'lambada_standard',\n",
       "  'perplexity,none': 8.637291109596081,\n",
       "  'perplexity_stderr,none': 0.37683480594369656,\n",
       "  'acc,none': 0.53929749660392,\n",
       "  'acc_stderr,none': 0.006944429304264609}}"
      ]
     },
     "execution_count": 79,
     "metadata": {},
     "output_type": "execute_result"
    }
   ],
   "source": [
    "metrics_pruned = evaluate_hf_model(\"Shahrukh0/attnprun-llama-3.2-1B\", tasks=tasks)\n",
    "metrics_pruned"
   ]
  },
  {
   "cell_type": "code",
   "execution_count": 80,
   "metadata": {
    "execution": {
     "iopub.execute_input": "2025-02-14T21:41:35.705717Z",
     "iopub.status.busy": "2025-02-14T21:41:35.705443Z",
     "iopub.status.idle": "2025-02-14T22:16:21.489045Z",
     "shell.execute_reply": "2025-02-14T22:16:21.487902Z",
     "shell.execute_reply.started": "2025-02-14T21:41:35.705691Z"
    },
    "trusted": true
   },
   "outputs": [
    {
     "name": "stderr",
     "output_type": "stream",
     "text": [
      "100%|██████████| 2376/2376 [00:02<00:00, 1074.04it/s]\n",
      "100%|██████████| 3270/3270 [00:01<00:00, 1833.92it/s]\n",
      "100%|██████████| 5153/5153 [00:09<00:00, 546.09it/s]\n",
      "100%|██████████| 5153/5153 [00:09<00:00, 541.83it/s]\n",
      "Running loglikelihood requests: 100%|██████████| 26347/26347 [33:31<00:00, 13.10it/s]\n"
     ]
    },
    {
     "name": "stdout",
     "output_type": "stream",
     "text": [
      "bootstrapping for stddev: perplexity\n"
     ]
    },
    {
     "name": "stderr",
     "output_type": "stream",
     "text": [
      "100%|██████████| 1/1 [00:00<00:00, 97.53it/s]\n"
     ]
    },
    {
     "name": "stdout",
     "output_type": "stream",
     "text": [
      "bootstrapping for stddev: perplexity\n"
     ]
    },
    {
     "name": "stderr",
     "output_type": "stream",
     "text": [
      "100%|██████████| 1/1 [00:00<00:00, 96.61it/s]\n"
     ]
    },
    {
     "data": {
      "text/plain": [
       "{'arc_easy': {'alias': 'arc_easy',\n",
       "  'acc,none': 0.6498316498316499,\n",
       "  'acc_stderr,none': 0.009788295410093146,\n",
       "  'acc_norm,none': 0.6069023569023569,\n",
       "  'acc_norm_stderr,none': 0.01002254061894531},\n",
       " 'boolq': {'alias': 'boolq',\n",
       "  'acc,none': 0.637308868501529,\n",
       "  'acc_stderr,none': 0.008408838061823177},\n",
       " 'lambada_openai': {'alias': 'lambada_openai',\n",
       "  'perplexity,none': 5.747471606969041,\n",
       "  'perplexity_stderr,none': 0.19350717486069613,\n",
       "  'acc,none': 0.6198331069280031,\n",
       "  'acc_stderr,none': 0.006762956659647619},\n",
       " 'lambada_standard': {'alias': 'lambada_standard',\n",
       "  'perplexity,none': 8.673077754353926,\n",
       "  'perplexity_stderr,none': 0.3809304515805616,\n",
       "  'acc,none': 0.5315350281389482,\n",
       "  'acc_stderr,none': 0.006952109107344538}}"
      ]
     },
     "execution_count": 80,
     "metadata": {},
     "output_type": "execute_result"
    }
   ],
   "source": [
    "metrics_base= evaluate_hf_model(\"meta-llama/Llama-3.2-1B\", tasks=tasks)\n",
    "metrics_base"
   ]
  },
  {
   "cell_type": "code",
   "execution_count": 82,
   "metadata": {
    "execution": {
     "iopub.execute_input": "2025-02-14T22:21:26.016743Z",
     "iopub.status.busy": "2025-02-14T22:21:26.016365Z",
     "iopub.status.idle": "2025-02-14T22:21:26.474796Z",
     "shell.execute_reply": "2025-02-14T22:21:26.473987Z",
     "shell.execute_reply.started": "2025-02-14T22:21:26.016714Z"
    },
    "trusted": true
   },
   "outputs": [
    {
     "data": {
      "image/png": "[encoded data removed]",
      "text/plain": [
       "<Figure size 800x500 with 1 Axes>"
      ]
     },
     "metadata": {},
     "output_type": "display_data"
    },
    {
     "data": {
      "image/png": "[encoded data removed]",
      "text/plain": [
       "<Figure size 800x500 with 1 Axes>"
      ]
     },
     "metadata": {},
     "output_type": "display_data"
    }
   ],
   "source": [
    "import matplotlib.pyplot as plt\n",
    "import numpy as np\n",
    "\n",
    "def visualize_metrics(metrics_base, metrics_pruned):\n",
    "    \"\"\"\n",
    "    Visualizes accuracy and perplexity before and after pruning.\n",
    "\n",
    "    Parameters:\n",
    "    - metrics_base: Dictionary of metrics for the base model\n",
    "    - metrics_pruned: Dictionary of metrics for the pruned model\n",
    "    \"\"\"\n",
    "    datasets = list(metrics_base.keys())\n",
    "\n",
    "    # Extract accuracy values\n",
    "    acc_base = [metrics_base[d].get('acc,none', None) for d in datasets]\n",
    "    acc_pruned = [metrics_pruned[d].get('acc,none', None) for d in datasets]\n",
    "\n",
    "    # Extract perplexity values (ignoring None values)\n",
    "    datasets_ppl = [d for d in datasets if 'perplexity,none' in metrics_base[d]]\n",
    "    ppl_base = [metrics_base[d]['perplexity,none'] for d in datasets_ppl]\n",
    "    ppl_pruned = [metrics_pruned[d]['perplexity,none'] for d in datasets_ppl]\n",
    "\n",
    "    # Bar Width\n",
    "    bar_width = 0.35\n",
    "    x = np.arange(len(datasets))\n",
    "\n",
    "    # Plot Accuracy Comparison\n",
    "    plt.figure(figsize=(8, 5))\n",
    "    plt.bar(x - bar_width/2, acc_base, bar_width, label=\"Base Model\", color='blue', alpha=0.7)\n",
    "    plt.bar(x + bar_width/2, acc_pruned, bar_width, label=\"Pruned Model\", color='red', alpha=0.7)\n",
    "    plt.xticks(x, datasets, rotation=20)\n",
    "    plt.ylabel(\"Accuracy\")\n",
    "    plt.title(\"Accuracy Comparison (Base vs. Pruned)\")\n",
    "    plt.legend()\n",
    "    plt.show()\n",
    "\n",
    "    # Plot Perplexity Comparison (Only for relevant datasets)\n",
    "    if datasets_ppl:\n",
    "        x_ppl = np.arange(len(datasets_ppl))\n",
    "        plt.figure(figsize=(8, 5))\n",
    "        plt.bar(x_ppl - bar_width/2, ppl_base, bar_width, label=\"Base Model\", color='green', alpha=0.7)\n",
    "        plt.bar(x_ppl + bar_width/2, ppl_pruned, bar_width, label=\"Pruned Model\", color='orange', alpha=0.7)\n",
    "        plt.xticks(x_ppl, datasets_ppl)\n",
    "        plt.ylabel(\"Perplexity\")\n",
    "        plt.title(\"Perplexity Comparison (Base vs. Pruned)\")\n",
    "        plt.legend()\n",
    "        plt.show()\n",
    "\n",
    "# Call the function\n",
    "visualize_metrics(metrics_base, metrics_pruned)"
   ]
  },
  {
   "cell_type": "code",
   "execution_count": null,
   "metadata": {
    "trusted": true
   },
   "outputs": [],
   "source": []
  }
 ],
 "metadata": {
  "accelerator": "GPU",
  "colab": {
   "gpuType": "T4",
   "provenance": []
  },
  "kaggle": {
   "accelerator": "gpu",
   "dataSources": [],
   "isGpuEnabled": true,
   "isInternetEnabled": true,
   "language": "python",
   "sourceType": "notebook"
  },
  "kernelspec": {
   "display_name": "Python 3",
   "language": "python",
   "name": "python3"
  },
  "language_info": {
   "codemirror_mode": {
    "name": "ipython",
    "version": 3
   },
   "file_extension": ".py",
   "mimetype": "text/x-python",
   "name": "python",
   "nbconvert_exporter": "python",
   "pygments_lexer": "ipython3",
   "version": "3.10.12"
  },
  "widgets": {
   "application/vnd.jupyter.widget-state+json": {
    "070a662cb4494191be279127f53a6f9b": {
     "model_module": "@jupyter-widgets/controls",
     "model_module_version": "1.5.0",
     "model_name": "FloatProgressModel",
     "state": {
      "_dom_classes": [],
      "_model_module": "@jupyter-widgets/controls",
      "_model_module_version": "1.5.0",
      "_model_name": "FloatProgressModel",
      "_view_count": null,
      "_view_module": "@jupyter-widgets/controls",
      "_view_module_version": "1.5.0",
      "_view_name": "ProgressView",
      "bar_style": "",
      "description": "",
      "description_tooltip": null,
      "layout": "IPY_MODEL_bf1bd8403ec144009394942aa408a710",
      "max": 2,
      "min": 0,
      "orientation": "horizontal",
      "style": "IPY_MODEL_a67a7331ef384d31aea5ba7ff418080a",
      "value": 1
     }
    },
    "086ba5e6e4b442dfa79a74e0bbb94b32": {
     "model_module": "@jupyter-widgets/base",
     "model_module_version": "1.2.0",
     "model_name": "LayoutModel",
     "state": {
      "_model_module": "@jupyter-widgets/base",
      "_model_module_version": "1.2.0",
      "_model_name": "LayoutModel",
      "_view_count": null,
      "_view_module": "@jupyter-widgets/base",
      "_view_module_version": "1.2.0",
      "_view_name": "LayoutView",
      "align_content": null,
      "align_items": null,
      "align_self": null,
      "border": null,
      "bottom": null,
      "display": null,
      "flex": null,
      "flex_flow": null,
      "grid_area": null,
      "grid_auto_columns": null,
      "grid_auto_flow": null,
      "grid_auto_rows": null,
      "grid_column": null,
      "grid_gap": null,
      "grid_row": null,
      "grid_template_areas": null,
      "grid_template_columns": null,
      "grid_template_rows": null,
      "height": null,
      "justify_content": null,
      "justify_items": null,
      "left": null,
      "margin": null,
      "max_height": null,
      "max_width": null,
      "min_height": null,
      "min_width": null,
      "object_fit": null,
      "object_position": null,
      "order": null,
      "overflow": null,
      "overflow_x": null,
      "overflow_y": null,
      "padding": null,
      "right": null,
      "top": null,
      "visibility": null,
      "width": null
     }
    },
    "5269522a9c844b00aa65d50d817d0973": {
     "model_module": "@jupyter-widgets/controls",
     "model_module_version": "1.5.0",
     "model_name": "HTMLModel",
     "state": {
      "_dom_classes": [],
      "_model_module": "@jupyter-widgets/controls",
      "_model_module_version": "1.5.0",
      "_model_name": "HTMLModel",
      "_view_count": null,
      "_view_module": "@jupyter-widgets/controls",
      "_view_module_version": "1.5.0",
      "_view_name": "HTMLView",
      "description": "",
      "description_tooltip": null,
      "layout": "IPY_MODEL_086ba5e6e4b442dfa79a74e0bbb94b32",
      "placeholder": "​",
      "style": "IPY_MODEL_c4f3670092ad47179a9947a606990c08",
      "value": "Loading checkpoint shards:  50%"
     }
    },
    "5d4b0da233e144258fdf0d6e802af69a": {
     "model_module": "@jupyter-widgets/controls",
     "model_module_version": "1.5.0",
     "model_name": "HBoxModel",
     "state": {
      "_dom_classes": [],
      "_model_module": "@jupyter-widgets/controls",
      "_model_module_version": "1.5.0",
      "_model_name": "HBoxModel",
      "_view_count": null,
      "_view_module": "@jupyter-widgets/controls",
      "_view_module_version": "1.5.0",
      "_view_name": "HBoxView",
      "box_style": "",
      "children": [
       "IPY_MODEL_5269522a9c844b00aa65d50d817d0973",
       "IPY_MODEL_070a662cb4494191be279127f53a6f9b",
       "IPY_MODEL_b9e7043d1bf042c38473e9036bfa9d79"
      ],
      "layout": "IPY_MODEL_7342a8e859a64c81bd8c85ca9e5b0141"
     }
    },
    "7342a8e859a64c81bd8c85ca9e5b0141": {
     "model_module": "@jupyter-widgets/base",
     "model_module_version": "1.2.0",
     "model_name": "LayoutModel",
     "state": {
      "_model_module": "@jupyter-widgets/base",
      "_model_module_version": "1.2.0",
      "_model_name": "LayoutModel",
      "_view_count": null,
      "_view_module": "@jupyter-widgets/base",
      "_view_module_version": "1.2.0",
      "_view_name": "LayoutView",
      "align_content": null,
      "align_items": null,
      "align_self": null,
      "border": null,
      "bottom": null,
      "display": null,
      "flex": null,
      "flex_flow": null,
      "grid_area": null,
      "grid_auto_columns": null,
      "grid_auto_flow": null,
      "grid_auto_rows": null,
      "grid_column": null,
      "grid_gap": null,
      "grid_row": null,
      "grid_template_areas": null,
      "grid_template_columns": null,
      "grid_template_rows": null,
      "height": null,
      "justify_content": null,
      "justify_items": null,
      "left": null,
      "margin": null,
      "max_height": null,
      "max_width": null,
      "min_height": null,
      "min_width": null,
      "object_fit": null,
      "object_position": null,
      "order": null,
      "overflow": null,
      "overflow_x": null,
      "overflow_y": null,
      "padding": null,
      "right": null,
      "top": null,
      "visibility": null,
      "width": null
     }
    },
    "99be618c1b6845ceb4764477c476e8d2": {
     "model_module": "@jupyter-widgets/controls",
     "model_module_version": "1.5.0",
     "model_name": "DescriptionStyleModel",
     "state": {
      "_model_module": "@jupyter-widgets/controls",
      "_model_module_version": "1.5.0",
      "_model_name": "DescriptionStyleModel",
      "_view_count": null,
      "_view_module": "@jupyter-widgets/base",
      "_view_module_version": "1.2.0",
      "_view_name": "StyleView",
      "description_width": ""
     }
    },
    "a67a7331ef384d31aea5ba7ff418080a": {
     "model_module": "@jupyter-widgets/controls",
     "model_module_version": "1.5.0",
     "model_name": "ProgressStyleModel",
     "state": {
      "_model_module": "@jupyter-widgets/controls",
      "_model_module_version": "1.5.0",
      "_model_name": "ProgressStyleModel",
      "_view_count": null,
      "_view_module": "@jupyter-widgets/base",
      "_view_module_version": "1.2.0",
      "_view_name": "StyleView",
      "bar_color": null,
      "description_width": ""
     }
    },
    "a8e17d3dcae54d568ad99f8d3212b23b": {
     "model_module": "@jupyter-widgets/base",
     "model_module_version": "1.2.0",
     "model_name": "LayoutModel",
     "state": {
      "_model_module": "@jupyter-widgets/base",
      "_model_module_version": "1.2.0",
      "_model_name": "LayoutModel",
      "_view_count": null,
      "_view_module": "@jupyter-widgets/base",
      "_view_module_version": "1.2.0",
      "_view_name": "LayoutView",
      "align_content": null,
      "align_items": null,
      "align_self": null,
      "border": null,
      "bottom": null,
      "display": null,
      "flex": null,
      "flex_flow": null,
      "grid_area": null,
      "grid_auto_columns": null,
      "grid_auto_flow": null,
      "grid_auto_rows": null,
      "grid_column": null,
      "grid_gap": null,
      "grid_row": null,
      "grid_template_areas": null,
      "grid_template_columns": null,
      "grid_template_rows": null,
      "height": null,
      "justify_content": null,
      "justify_items": null,
      "left": null,
      "margin": null,
      "max_height": null,
      "max_width": null,
      "min_height": null,
      "min_width": null,
      "object_fit": null,
      "object_position": null,
      "order": null,
      "overflow": null,
      "overflow_x": null,
      "overflow_y": null,
      "padding": null,
      "right": null,
      "top": null,
      "visibility": null,
      "width": null
     }
    },
    "b9e7043d1bf042c38473e9036bfa9d79": {
     "model_module": "@jupyter-widgets/controls",
     "model_module_version": "1.5.0",
     "model_name": "HTMLModel",
     "state": {
      "_dom_classes": [],
      "_model_module": "@jupyter-widgets/controls",
      "_model_module_version": "1.5.0",
      "_model_name": "HTMLModel",
      "_view_count": null,
      "_view_module": "@jupyter-widgets/controls",
      "_view_module_version": "1.5.0",
      "_view_name": "HTMLView",
      "description": "",
      "description_tooltip": null,
      "layout": "IPY_MODEL_a8e17d3dcae54d568ad99f8d3212b23b",
      "placeholder": "​",
      "style": "IPY_MODEL_99be618c1b6845ceb4764477c476e8d2",
      "value": " 1/2 [00:21&lt;00:21, 21.42s/it]"
     }
    },
    "bf1bd8403ec144009394942aa408a710": {
     "model_module": "@jupyter-widgets/base",
     "model_module_version": "1.2.0",
     "model_name": "LayoutModel",
     "state": {
      "_model_module": "@jupyter-widgets/base",
      "_model_module_version": "1.2.0",
      "_model_name": "LayoutModel",
      "_view_count": null,
      "_view_module": "@jupyter-widgets/base",
      "_view_module_version": "1.2.0",
      "_view_name": "LayoutView",
      "align_content": null,
      "align_items": null,
      "align_self": null,
      "border": null,
      "bottom": null,
      "display": null,
      "flex": null,
      "flex_flow": null,
      "grid_area": null,
      "grid_auto_columns": null,
      "grid_auto_flow": null,
      "grid_auto_rows": null,
      "grid_column": null,
      "grid_gap": null,
      "grid_row": null,
      "grid_template_areas": null,
      "grid_template_columns": null,
      "grid_template_rows": null,
      "height": null,
      "justify_content": null,
      "justify_items": null,
      "left": null,
      "margin": null,
      "max_height": null,
      "max_width": null,
      "min_height": null,
      "min_width": null,
      "object_fit": null,
      "object_position": null,
      "order": null,
      "overflow": null,
      "overflow_x": null,
      "overflow_y": null,
      "padding": null,
      "right": null,
      "top": null,
      "visibility": null,
      "width": null
     }
    },
    "c4f3670092ad47179a9947a606990c08": {
     "model_module": "@jupyter-widgets/controls",
     "model_module_version": "1.5.0",
     "model_name": "DescriptionStyleModel",
     "state": {
      "_model_module": "@jupyter-widgets/controls",
      "_model_module_version": "1.5.0",
      "_model_name": "DescriptionStyleModel",
      "_view_count": null,
      "_view_module": "@jupyter-widgets/base",
      "_view_module_version": "1.2.0",
      "_view_name": "StyleView",
      "description_width": ""
     }
    }
   }
  }
 },
 "nbformat": 4,
 "nbformat_minor": 4
}
